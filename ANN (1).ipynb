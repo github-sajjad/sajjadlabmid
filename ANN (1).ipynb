{
  "nbformat": 4,
  "nbformat_minor": 0,
  "metadata": {
    "colab": {
      "provenance": []
    },
    "kernelspec": {
      "name": "python3",
      "display_name": "Python 3"
    },
    "language_info": {
      "name": "python"
    }
  },
  "cells": [
    {
      "cell_type": "code",
      "execution_count": null,
      "metadata": {
        "id": "VrJezKooViyV"
      },
      "outputs": [],
      "source": [
        "!pip install -U -q PyDrive\n",
        "from pydrive.auth import GoogleAuth\n",
        "from pydrive.drive import GoogleDrive\n",
        "from google.colab import auth\n",
        "from oauth2client.client import GoogleCredentials\n",
        "auth.authenticate_user()\n",
        "gauth = GoogleAuth()\n",
        "gauth.credentials = GoogleCredentials.get_application_default()\n",
        "drive = GoogleDrive(gauth) #1st theke ei line porjonto google ID authentication kora hoise\n",
        "fid = drive.ListFile({'q':\"title='stroke.zip'\"}).GetList()[0]['id'] #ekhane drive er moddhe file ta khoja hoise\n",
        "f = drive.CreateFile({'id': fid})\n",
        "f.GetContentFile('stroke.zip')\n",
        "f.keys()\n",
        "!unzip stroke.zip\n"
      ]
    },
    {
      "cell_type": "code",
      "source": [
        "import pandas as pd\n",
        "import numpy as np\n",
        "from sklearn.model_selection import train_test_split\n",
        "from sklearn.preprocessing import LabelEncoder\n",
        "from keras.models import Sequential\n",
        "from keras.layers import Dense\n"
      ],
      "metadata": {
        "id": "wNAyFGKwXvy4"
      },
      "execution_count": null,
      "outputs": []
    },
    {
      "cell_type": "code",
      "source": [
        "data = pd.read_csv(\"/content/healthcare-dataset-stroke-data.csv\")\n",
        "data = data.dropna()\n"
      ],
      "metadata": {
        "id": "mQL7m2jKX8wW"
      },
      "execution_count": null,
      "outputs": []
    },
    {
      "cell_type": "code",
      "source": [
        "categorical_cols = data.select_dtypes(include=[\"object\"]).columns\n",
        "encoder = LabelEncoder()\n",
        "for col in categorical_cols:\n",
        "    data[col] = encoder.fit_transform(data[col])\n",
        "\n",
        "X = data.drop(\"stroke\", axis=1)\n",
        "y = data[\"stroke\"]\n",
        "X_train, X_test, y_train, y_test = train_test_split(X, y, test_size=0.2, random_state=True)\n"
      ],
      "metadata": {
        "id": "FjC3YxIpX_Q2"
      },
      "execution_count": null,
      "outputs": []
    },
    {
      "cell_type": "code",
      "source": [
        "model = Sequential()\n",
        "model.add(Dense(32, input_dim=X_train.shape[1], activation=\"relu\"))\n",
        "model.add(Dense(16, activation=\"relu\"))\n",
        "model.add(Dense(8, activation=\"relu\"))\n",
        "model.add(Dense(1, activation=\"sigmoid\"))\n"
      ],
      "metadata": {
        "id": "QkEFdEJsYF4G"
      },
      "execution_count": null,
      "outputs": []
    },
    {
      "cell_type": "code",
      "source": [
        "model.compile(loss=\"binary_crossentropy\", optimizer=\"adam\", metrics=[\"accuracy\"])\n",
        "model.fit(X_train, y_train, epochs=50, batch_size=32, verbose=2)\n"
      ],
      "metadata": {
        "id": "QUBvLyFfYKLu"
      },
      "execution_count": null,
      "outputs": []
    },
    {
      "cell_type": "code",
      "source": [
        "loss, accuracy = model.evaluate(X_test, y_test)\n",
        "print(\"Test accuracy:\", accuracy)\n"
      ],
      "metadata": {
        "id": "TmOIsKyfYNQn"
      },
      "execution_count": null,
      "outputs": []
    }
  ]
}