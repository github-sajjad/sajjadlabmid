{
  "nbformat": 4,
  "nbformat_minor": 0,
  "metadata": {
    "colab": {
      "provenance": [],
      "gpuType": "T4"
    },
    "kernelspec": {
      "name": "python3",
      "display_name": "Python 3"
    },
    "language_info": {
      "name": "python"
    },
    "accelerator": "GPU",
    "gpuClass": "standard"
  },
  "cells": [
    {
      "cell_type": "code",
      "execution_count": null,
      "metadata": {
        "id": "cGC6FtoEUUsn"
      },
      "outputs": [],
      "source": [
        "!pip install -U -q PyDrive\n",
        "from pydrive.auth import GoogleAuth\n",
        "from pydrive.drive import GoogleDrive\n",
        "from google.colab import auth\n",
        "from oauth2client.client import GoogleCredentials\n",
        "auth.authenticate_user()\n",
        "gauth = GoogleAuth()\n",
        "gauth.credentials = GoogleCredentials.get_application_default()\n",
        "drive = GoogleDrive(gauth)\n",
        "fid = drive.ListFile({'q':\"title='fruits.zip'\"}).GetList()[0]['id']\n",
        "f = drive.CreateFile({'id': fid})\n",
        "f.GetContentFile('fruits.zip')\n",
        "f.keys()\n",
        "!unzip fruits.zip"
      ]
    },
    {
      "cell_type": "code",
      "source": [
        "import numpy as np\n",
        "import pandas as pd"
      ],
      "metadata": {
        "id": "R2roaFLiUrIw"
      },
      "execution_count": null,
      "outputs": []
    },
    {
      "cell_type": "code",
      "source": [
        "TRAIN_DIR = '/content/fruits/train'"
      ],
      "metadata": {
        "id": "nX3aueecUtbv"
      },
      "execution_count": null,
      "outputs": []
    },
    {
      "cell_type": "code",
      "source": [
        "import tensorflow as tf\n",
        "from tensorflow import keras\n",
        "from tensorflow.keras.models import Sequential\n",
        "from tensorflow.keras import layers as L\n",
        "from tensorflow.keras.preprocessing.image import ImageDataGenerator, img_to_array, load_img\n",
        "\n",
        "import matplotlib.pyplot as plt"
      ],
      "metadata": {
        "id": "OwwMORj7UxBH"
      },
      "execution_count": null,
      "outputs": []
    },
    {
      "cell_type": "code",
      "source": [
        "img_datagen = ImageDataGenerator(rescale=1./255,\n",
        "                                vertical_flip=True,\n",
        "                                horizontal_flip=True,\n",
        "                                rotation_range=40,\n",
        "                                width_shift_range=0.2,\n",
        "                                height_shift_range=0.2,\n",
        "                                zoom_range=0.1,\n",
        "                                validation_split=0.2)\n",
        "\n",
        "test_datagen = ImageDataGenerator(rescale=1./255)\n",
        "\n",
        "train_generator = img_datagen.flow_from_directory(TRAIN_DIR,\n",
        "                                                 shuffle=True,\n",
        "                                                 batch_size=32,\n",
        "                                                 subset='training',\n",
        "                                                 target_size=(100, 100))\n",
        "\n",
        "valid_generator = img_datagen.flow_from_directory(TRAIN_DIR,\n",
        "                                                 shuffle=True,\n",
        "                                                 batch_size=16,\n",
        "                                                 subset='validation',\n",
        "                                                 target_size=(100, 100))"
      ],
      "metadata": {
        "colab": {
          "base_uri": "https://localhost:8080/"
        },
        "id": "LpE47NzsU00O",
        "outputId": "010be060-bc47-4846-f60d-b0a795f3a8ae"
      },
      "execution_count": null,
      "outputs": [
        {
          "output_type": "stream",
          "name": "stdout",
          "text": [
            "Found 310 images belonging to 5 classes.\n",
            "Found 74 images belonging to 5 classes.\n"
          ]
        }
      ]
    },
    {
      "cell_type": "code",
      "source": [
        "model = Sequential()\n",
        "\n",
        "model.add(L.Conv2D(64, (5, 5), activation='relu', padding='Same', input_shape=(100, 100, 3)))\n",
        "model.add(L.Conv2D(64, (5, 5), activation='relu', padding='Same'))\n",
        "model.add(L.MaxPool2D((2, 2)))\n",
        "model.add(L.Dropout(0.25))\n",
        "\n",
        "model.add(L.Conv2D(128, (3, 3), activation='relu', padding='Same'))\n",
        "model.add(L.Conv2D(128, (3, 3), activation='relu', padding='Same'))\n",
        "model.add(L.MaxPool2D((2, 2), strides=(2, 2)))\n",
        "model.add(L.Dropout(0.25))\n",
        "\n",
        "model.add(L.Flatten())\n",
        "model.add(L.Dense(256, activation='relu'))\n",
        "model.add(L.Dropout(0.5))\n",
        "model.add(L.Dense(5, activation='softmax'))\n",
        "\n",
        "model.compile(optimizer=keras.optimizers.Adam(lr=0.0001), loss='categorical_crossentropy', metrics=['accuracy'])"
      ],
      "metadata": {
        "colab": {
          "base_uri": "https://localhost:8080/"
        },
        "id": "lB8eV1SJU4U_",
        "outputId": "5bd835d1-c22d-4db6-83f6-c6ac4e1fd82b"
      },
      "execution_count": null,
      "outputs": [
        {
          "output_type": "stream",
          "name": "stderr",
          "text": [
            "WARNING:absl:`lr` is deprecated in Keras optimizer, please use `learning_rate` or use the legacy optimizer, e.g.,tf.keras.optimizers.legacy.Adam.\n"
          ]
        }
      ]
    },
    {
      "cell_type": "code",
      "source": [
        "early = tf.keras.callbacks.EarlyStopping(monitor='val_accuracy', patience=3, mode='max',\n",
        "                                        restore_best_weights=True)\n",
        "            \n",
        "history = model.fit(train_generator, validation_data=valid_generator,\n",
        "                   steps_per_epoch=train_generator.n//train_generator.batch_size,\n",
        "                   validation_steps=valid_generator.n//valid_generator.batch_size,\n",
        "                    callbacks=[early],\n",
        "                   epochs=10)"
      ],
      "metadata": {
        "colab": {
          "base_uri": "https://localhost:8080/"
        },
        "id": "EiE2Tdg2U9Xw",
        "outputId": "64fa21db-1e25-42f3-fe7f-02cac5533dfe"
      },
      "execution_count": null,
      "outputs": [
        {
          "output_type": "stream",
          "name": "stdout",
          "text": [
            "Epoch 1/10\n",
            "9/9 [==============================] - 25s 3s/step - loss: 1.0751 - accuracy: 0.5764 - val_loss: 0.9695 - val_accuracy: 0.5781\n",
            "Epoch 2/10\n",
            "9/9 [==============================] - 23s 3s/step - loss: 1.0754 - accuracy: 0.5576 - val_loss: 1.1992 - val_accuracy: 0.3906\n",
            "Epoch 3/10\n",
            "9/9 [==============================] - 19s 2s/step - loss: 1.0903 - accuracy: 0.5827 - val_loss: 1.1119 - val_accuracy: 0.5156\n",
            "Epoch 4/10\n",
            "9/9 [==============================] - 18s 2s/step - loss: 0.8919 - accuracy: 0.6583 - val_loss: 0.7885 - val_accuracy: 0.6719\n",
            "Epoch 5/10\n",
            "9/9 [==============================] - 18s 2s/step - loss: 0.9056 - accuracy: 0.6547 - val_loss: 0.7926 - val_accuracy: 0.7031\n",
            "Epoch 6/10\n",
            "9/9 [==============================] - 17s 2s/step - loss: 0.9109 - accuracy: 0.6367 - val_loss: 0.9063 - val_accuracy: 0.5938\n",
            "Epoch 7/10\n",
            "9/9 [==============================] - 19s 2s/step - loss: 0.8469 - accuracy: 0.6547 - val_loss: 0.9061 - val_accuracy: 0.6406\n",
            "Epoch 8/10\n",
            "9/9 [==============================] - 18s 2s/step - loss: 0.9607 - accuracy: 0.6259 - val_loss: 1.0100 - val_accuracy: 0.5938\n"
          ]
        }
      ]
    },
    {
      "cell_type": "code",
      "source": [
        "plt.plot(history.history['accuracy'])\n",
        "plt.plot(history.history['val_accuracy'])\n",
        "plt.xlabel('Epoch')\n",
        "plt.ylabel('Accuracy')\n",
        "print(\"Accuracy: \",max(history.history['accuracy']))\n",
        "plt.show()"
      ],
      "metadata": {
        "colab": {
          "base_uri": "https://localhost:8080/",
          "height": 466
        },
        "id": "-yFasdCBXiU3",
        "outputId": "928d5d7f-0f9b-4dc6-ea24-c9f335893be6"
      },
      "execution_count": null,
      "outputs": [
        {
          "output_type": "stream",
          "name": "stdout",
          "text": [
            "Accuracy:  0.6582733988761902\n"
          ]
        },
        {
          "output_type": "display_data",
          "data": {
            "text/plain": [
              "<Figure size 640x480 with 1 Axes>"
            ],
            "image/png": "[encoded data removed]"
          },
          "metadata": {}
        }
      ]
    }
  ]
}